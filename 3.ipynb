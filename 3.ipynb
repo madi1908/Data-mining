{
 "cells": [
  {
   "cell_type": "code",
   "execution_count": 2,
   "metadata": {},
   "outputs": [
    {
     "name": "stdout",
     "output_type": "stream",
     "text": [
      "Model accuracy with selected features: 0.9298245614035088\n",
      "Selected feature indices: [ 0  6  7 10 11 24 25 26 27 28]\n"
     ]
    }
   ],
   "source": [
    "# Load the Boston Housing dataset from scikit-learn.\n",
    "# Split the dataset into training and testing sets.\n",
    "# Train a decision tree regressor on the training set.\n",
    "# Evaluate the model's performance using mean squared error (MSE).\n",
    "# Visualize the decision tree.\n",
    "# Madi Madiyarov\n",
    " \n",
    "from sklearn.datasets import load_breast_cancer\n",
    "from sklearn.svm import SVC\n",
    "from sklearn.model_selection import train_test_split\n",
    "from sklearn.feature_selection import RFE\n",
    "from sklearn.metrics import accuracy_score\n",
    "\n",
    "cancer = load_breast_cancer()\n",
    "\n",
    "x = cancer.data\n",
    "y = cancer.target\n",
    "train_x, test_x, train_y, test_y = train_test_split(x, y, test_size=0.3, random_state=42)\n",
    "\n",
    "svm = SVC(kernel=\"linear\")  \n",
    "rfe = RFE(estimator=svm, n_features_to_select=10)\n",
    "rfe.fit(train_x, train_y)\n",
    "\n",
    "train_x_rfe = rfe.transform(train_x)\n",
    "test_x_rfe = rfe.transform(test_x)\n",
    "\n",
    "svm.fit(train_x_rfe, train_y)\n",
    "\n",
    "pred_y = svm.predict(test_x_rfe)  \n",
    "accuracy = accuracy_score(test_y, pred_y)\n",
    "  \n",
    "print(\"Model accuracy with selected features:\", accuracy)\n",
    "\n",
    "selected_features = rfe.get_support(indices=True)\n",
    "print(\"Selected feature indices:\", selected_features)"
   ]
  }
 ],
 "metadata": {
  "kernelspec": {
   "display_name": "Python 3",
   "language": "python",
   "name": "python3"
  },
  "language_info": {
   "codemirror_mode": {
    "name": "ipython",
    "version": 3
   },
   "file_extension": ".py",
   "mimetype": "text/x-python",
   "name": "python",
   "nbconvert_exporter": "python",
   "pygments_lexer": "ipython3",
   "version": "3.11.2"
  }
 },
 "nbformat": 4,
 "nbformat_minor": 2
}
